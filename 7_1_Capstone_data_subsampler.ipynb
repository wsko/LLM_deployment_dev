{
 "cells": [
  {
   "cell_type": "code",
   "execution_count": 3,
   "id": "36d13a9d-fa5e-4f70-8d67-c6fdf5b55325",
   "metadata": {
    "scrolled": true
   },
   "outputs": [
    {
     "name": "stdout",
     "output_type": "stream",
     "text": [
      "Saved subsampled train and test sets to: subsampled_cnn_dailymail/\n"
     ]
    }
   ],
   "source": [
    "from datasets import load_dataset\n",
    "import pandas as pd\n",
    "import random\n",
    "import os\n",
    "import json\n",
    "\n",
    "# Load the CNN/DailyMail dataset (we use the '3.0.0' version which includes highlights as summaries)\n",
    "dataset = load_dataset(\"cnn_dailymail\", \"3.0.0\")\n",
    "\n",
    "# Parameters\n",
    "NUM_TRAIN = 128  # Keep this small\n",
    "NUM_TEST = 32\n",
    "OUTPUT_DIR = \"subsampled_cnn_dailymail\"\n",
    "\n",
    "# Create output folder\n",
    "os.makedirs(OUTPUT_DIR, exist_ok=True)\n",
    "\n",
    "# Subsample\n",
    "train_subset = dataset[\"train\"].shuffle(seed=42).select(range(NUM_TRAIN))\n",
    "test_subset = dataset[\"test\"].shuffle(seed=42).select(range(NUM_TEST))\n",
    "\n",
    "# Save to JSON (list of dicts)\n",
    "train_data = [{\"article\": ex[\"article\"], \"summary\": ex[\"highlights\"]} for ex in train_subset]\n",
    "test_data = [{\"article\": ex[\"article\"], \"summary\": ex[\"highlights\"]} for ex in test_subset]\n",
    "\n",
    "with open(f\"{OUTPUT_DIR}/train_sample.json\", \"w\", encoding=\"utf-8\") as f:\n",
    "    json.dump(train_data, f, ensure_ascii=False, indent=2)\n",
    "\n",
    "with open(f\"{OUTPUT_DIR}/test_sample.json\", \"w\", encoding=\"utf-8\") as f:\n",
    "    json.dump(test_data, f, ensure_ascii=False, indent=2)\n",
    "\n",
    "print(f\"Saved subsampled train and test sets to: {OUTPUT_DIR}/\")\n"
   ]
  },
  {
   "cell_type": "code",
   "execution_count": null,
   "id": "5d86f22d-e6f5-4d3e-bc19-2fe9b3fd64ed",
   "metadata": {},
   "outputs": [],
   "source": []
  }
 ],
 "metadata": {
  "kernelspec": {
   "display_name": "Python (tf-transformers)",
   "language": "python",
   "name": "tf-transformers"
  },
  "language_info": {
   "codemirror_mode": {
    "name": "ipython",
    "version": 3
   },
   "file_extension": ".py",
   "mimetype": "text/x-python",
   "name": "python",
   "nbconvert_exporter": "python",
   "pygments_lexer": "ipython3",
   "version": "3.11.13"
  }
 },
 "nbformat": 4,
 "nbformat_minor": 5
}
